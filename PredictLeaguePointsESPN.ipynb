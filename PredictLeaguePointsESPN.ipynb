{
  "nbformat": 4,
  "nbformat_minor": 0,
  "metadata": {
    "colab": {
      "name": "PredictLeaguePointsESPN.ipynb",
      "provenance": [],
      "mount_file_id": "1fUKUCJsqKgfp4w1IIT6SWUbG3azBZxXV",
      "authorship_tag": "ABX9TyOHlpnE8P0GAnvu5AGpdRvU"
    },
    "kernelspec": {
      "name": "python3",
      "display_name": "Python 3"
    },
    "language_info": {
      "name": "python"
    }
  },
  "cells": [
    {
      "cell_type": "code",
      "source": [
        "#@title Settings Select\n",
        "\n",
        "league = 'IYNFYL'\n",
        "year = 2021\n",
        "week = 17\n",
        "\n",
        "inputemail = ''\n",
        "inputpassword = ''"
      ],
      "metadata": {
        "id": "ZMKOZrhfMkA9"
      },
      "execution_count": null,
      "outputs": []
    },
    {
      "cell_type": "code",
      "execution_count": null,
      "metadata": {
        "id": "cMDgBvA8yNgW"
      },
      "outputs": [],
      "source": [
        "#@title Imports\n",
        "%%capture\n",
        "# !pip install selenium\n",
        "# !apt-get update \n",
        "# !apt install chromium-chromedriver\n",
        "# !pip install ff_espn_api;\n",
        "\n",
        "import pandas as pd\n",
        "from sklearn import linear_model\n",
        "import time\n",
        "from selenium.webdriver.common.by import By\n",
        "from selenium.common.exceptions import TimeoutException\n",
        "from selenium import webdriver\n",
        "from ff_espn_api import League\n",
        "from itertools import chain,cycle\n",
        "from IPython.display import display_html\n",
        "\n",
        "chrome_options = webdriver.ChromeOptions()\n",
        "chrome_options.add_argument('--headless')\n",
        "chrome_options.add_argument('--no-sandbox')\n",
        "chrome_options.add_argument('--disable-dev-shm-usage')\n",
        "driver = webdriver.Chrome('chromedriver',chrome_options=chrome_options)\n",
        "\n",
        "df = pd.DataFrame()\n",
        "\n",
        "pd.options.mode.chained_assignment = None  # default='warn'\n",
        "pd.set_option('display.max_rows', None)\n",
        "pd.set_option('display.max_columns', None)\n",
        "\n",
        "def display_side_by_side(*args,titles=cycle([''])):\n",
        "    html_str=''\n",
        "    for df,title in zip(args, chain(titles,cycle(['</br>'])) ):\n",
        "        html_str+='<th style=\"text-align:center\"><td style=\"vertical-align:top\">'\n",
        "        html_str+=f'<h2>{title}</h2>'\n",
        "        html_str+=df.to_html().replace('table','table style=\"display:inline\"')\n",
        "        html_str+='</td></th>'\n",
        "    display_html(html_str,raw=True)"
      ]
    },
    {
      "cell_type": "code",
      "source": [
        "#@title Define lists and dicts\n",
        "\n",
        "proj_column_dict = {\n",
        "  2:['PlayerTeam','PlayerPosition','Week','OppTeam','ProjPassingCompletion','ProjPassingAttempts','ProjPassingPercent','ProjPassingYards','ProjPassingAverage','ProjPassingTouchdowns','ProjPassingInterceptions','ProjPassingRating','ProjRushingAttempts','ProjRushingYards','ProjRushingAverage','ProjRushingTouchdowns','ProjFPTS/G','ProjFantasyPoints'],\n",
        "  3:['PlayerTeam','PlayerPosition','Week','OppTeam','ProjRushingAttempts','ProjRushingYards','ProjRushingAverage','ProjRushingTouchdowns','ProjReceivingTargets','ProjReceivingReceptions','ProjReceivingYards','ProjReceivingTouchdowns','ProjFumbles','ProjFumblesLost','ProjFPTS/G','ProjFantasyPoints'],\n",
        "  4:['PlayerTeam','PlayerPosition','Week','OppTeam','ProjReceivingTargets','ProjReceivingReceptions','ProjReceivingPercent','ProjReceivingYards','ProjReceivingTouchdowns','ProjReceivingLong','ProjReceivingYards/Target','ProjReceivingYards/Reception','ProjRushingAttempts','ProjRushingYards','ProjRushingAverage','ProjRushingTouchdowns','ProjFumbles','ProjFumblesLost','ProjFPTS/G','ProjFantasyPoints'],\n",
        "  5:['PlayerTeam','PlayerPosition','Week','OppTeam','ProjReceivingTargets','ProjReceivingReceptions','ProjReceivingPercent','ProjReceivingYards','ProjReceivingTouchdowns','ProjReceivingLong','ProjReceivingYards/Target','ProjReceivingYards/Reception','ProjRushingAttempts','ProjRushingYards','ProjRushingAverage','ProjRushingTouchdowns','ProjFumbles','ProjFumblesLost','ProjFPTS/G','ProjFantasyPoints'],\n",
        "  6:['PlayerTeam','PlayerPosition','Week','OppTeam','ProjFieldGoalsMade','ProjFieldGoalAttempts','ProjFieldGoalsPercent','ProjFieldGoalsLong','ProjExtraPointsMade','ProjExtraPointAttempts','ProjFPTS/G','ProjFantasyPoints'],\n",
        "  7:['PlayerTeam','PlayerPosition','Week','OppTeam','ProjTacklesForLoss','ProjSacks','ProjQuarterbackHits','ProjInterceptions','ProjFumblesRecovered','ProjSafeties','ProjDefensiveTouchdowns','ProjReturningTouchdowns','ProjPointsAllowed','ProjFPTS/G','ProjFantasyPoints'],\n",
        "  }\n",
        "\n",
        "perf_column_dict = {\n",
        "  2:['PlayerTeam','PlayerPosition','Week','OppTeam','PerfPassingCompletion','PerfPassingAttempts','PerfPassingPercent','PerfPassingYards','PerfPassingAverage','PerfPassingTouchdowns','PerfPassingInterceptions','PerfPassingRating','PerfRushingAttempts','PerfRushingYards','PerfRushingAverage','PerfRushingTouchdowns','PerfFPTS/G','PerfFantasyPoints'],\n",
        "  3:['PlayerTeam','PlayerPosition','Week','OppTeam','PerfRushingAttempts','PerfRushingYards','PerfRushingAverage','PerfRushingTouchdowns','PerfReceivingTargets','PerfReceivingReceptions','PerfReceivingYards','PerfReceivingTouchdowns','PerfFumbles','PerfFumblesLost','PerfFPTS/G','PerfFantasyPoints'],\n",
        "  4:['PlayerTeam','PlayerPosition','Week','OppTeam','PerfReceivingTargets','PerfReceivingReceptions','PerfReceivingPercent','PerfReceivingYards','PerfReceivingTouchdowns','PerfReceivingLong','PerfReceivingYards/Target','PerfReceivingYards/Reception','PerfRushingAttempts','PerfRushingYards','PerfRushingAverage','PerfRushingTouchdowns','PerfFumbles','PerfFumblesLost','PerfFPTS/G','PerfFantasyPoints'],\n",
        "  5:['PlayerTeam','PlayerPosition','Week','OppTeam','PerfReceivingTargets','PerfReceivingReceptions','PerfReceivingPercent','PerfReceivingYards','PerfReceivingTouchdowns','PerfReceivingLong','PerfReceivingYards/Target','PerfReceivingYards/Reception','PerfRushingAttempts','PerfRushingYards','PerfRushingAverage','PerfRushingTouchdowns','PerfFumbles','PerfFumblesLost','PerfFPTS/G','PerfFantasyPoints'],\n",
        "  6:['PlayerTeam','PlayerPosition','Week','OppTeam','PerfFieldGoalsMade','PerfFieldGoalAttempts','PerfFieldGoalsPercent','PerfFieldGoalsLong','PerfExtraPointsMade','PerfExtraPointAttempts','PerfFPTS/G','PerfFantasyPoints'],\n",
        "  7:['PlayerTeam','PlayerPosition','Week','OppTeam','PerfTacklesForLoss','PerfSacks','PerfQuarterbackHits','PerfInterceptions','PerfFumblesRecovered','PerfSafeties','PerfDefensiveTouchdowns','PerfReturningTouchdowns','PerfPointsAllowed','PerfFPTS/G','PerfFantasyPoints'],\n",
        "  }\n",
        "\n",
        "relevant_data_columns = [\n",
        "  'Year','Week', 'PlayerPosition', 'OppTeam',\n",
        "  'ProjPassingCompletion', 'ProjPassingAttempts', 'ProjPassingYards', 'ProjPassingTouchdowns', 'ProjPassingInterceptions', 'ProjRushingAttempts', 'ProjRushingYards', 'ProjRushingTouchdowns', 'ProjReceivingTargets', 'ProjReceivingReceptions', 'ProjReceivingYards', 'ProjReceivingTouchdowns', 'ProjFumbles', 'ProjFumblesLost', 'ProjFieldGoalsMade', 'ProjFieldGoalAttempts', 'ProjExtraPointsMade', 'ProjExtraPointAttempts',\n",
        "  'PerfPassingCompletion', 'PerfPassingAttempts', 'PerfPassingYards', 'PerfPassingTouchdowns', 'PerfPassingInterceptions', 'PerfRushingAttempts', 'PerfRushingYards', 'PerfRushingTouchdowns', 'PerfReceivingTargets', 'PerfReceivingReceptions', 'PerfReceivingYards', 'PerfReceivingTouchdowns', 'PerfFumbles', 'PerfFumblesLost', 'PerfFieldGoalsMade', 'PerfFieldGoalAttempts', 'PerfExtraPointsMade', 'PerfExtraPointAttempts',\n",
        "  'ProjTacklesForLoss','ProjSacks','ProjQuarterbackHits','ProjInterceptions','ProjFumblesRecovered','ProjSafeties','ProjDefensiveTouchdowns','ProjReturningTouchdowns','ProjPointsAllowed',\n",
        "  'PerfTacklesForLoss','PerfSacks','PerfQuarterbackHits','PerfInterceptions','PerfFumblesRecovered','PerfSafeties','PerfDefensiveTouchdowns','PerfReturningTouchdowns','PerfPointsAllowed',\n",
        "  ]\n",
        "\n",
        "if league == 'STS':\n",
        "  league_scoring = {\n",
        "  'PassingYards': 0.04,'PassingTouchdowns': 6,'PassingInterceptions': -2,\n",
        "  'RushingYards': 0.1,'RushingTouchdowns': 6,'FumblesLost': -2,\n",
        "  'ReceivingReceptions': 1,'ReceivingYards': 0.1,'ReceivingTouchdowns': 6,\n",
        "  'ExtraPointMade':1,'ExtraPointMissed':-1,'FieldGoalMissed':-1,'FieldGoalMade':3,\n",
        "  'DefenseReturningTouchdown':6,'DefenseTouchdown':6,'DefenseSack':1,'DefenseInterception':2,'DefenseFumbleRecovered':2,'DefenseSafety':2,'DefensePointsAllowed':-0.217391304348,'TacklesForLoss':0,'QuarterbackHits':0\n",
        "  }\n",
        "  roster_sizes = {'QB': 2,'RB': 3,'WR': 3,'TE': 1,'FLEX': 1,'DST': 1,'K': 1, 'BENCH': 6}\n",
        "if league == 'IYNFYL':\n",
        "  league_scoring = {\n",
        "  'PassingYards': 0.04,'PassingTouchdowns': 6,'PassingInterceptions': -2,\n",
        "  'RushingYards': 0.1,'RushingTouchdowns': 6,'FumblesLost': -2,\n",
        "  'ReceivingReceptions': 1,'ReceivingYards': 0.1,'ReceivingTouchdowns': 6,\n",
        "  'ExtraPointMade':1,'ExtraPointMissed':-1,'FieldGoalMissed':-1,'FieldGoalMade':3,\n",
        "  'DefenseReturningTouchdown':6,'DefenseTouchdown':6,'DefenseSack':1,'DefenseInterception':4,'DefenseFumbleRecovered':4,'DefenseSafety':2,'DefensePointsAllowed':-0.217391304348,'TacklesForLoss':0,'QuarterbackHits':0\n",
        "  }\n",
        "  roster_sizes = {'QB': 1,'RB': 2,'WR': 3,'TE': 1,'FLEX': 2,'DST': 1,'K': 0, 'BENCH': 6}\n",
        "\n",
        "\n",
        "relevant_ml_columns = [\n",
        "  'ProjPassingYards',\n",
        "  'ProjPassingTouchdowns', 'ProjPassingInterceptions', 'ProjRushingYards', 'ProjRushingTouchdowns',\n",
        "  'ProjReceivingReceptions', 'ProjReceivingYards',\n",
        "  'ProjReceivingTouchdowns', 'ProjFumblesLost',\n",
        "  'ProjFieldGoalsMade', 'ProjFieldGoalsMissed', 'ProjExtraPointsMade',\n",
        "  'ProjExtraPointsMissed', 'PerfLeaguePoints', \n",
        "  'ProjTacklesForLoss','ProjSacks','ProjQuarterbackHits','ProjInterceptions','ProjFumblesRecovered','ProjSafeties','ProjDefensiveTouchdowns','ProjPointsAllowed',\n",
        "  'KvsARI', 'KvsATL', 'KvsBAL', 'KvsBUF', 'KvsCAR', 'KvsCHI', 'KvsCIN', 'KvsCLE', 'KvsDAL', 'KvsDEN', 'KvsDET', 'KvsGB', 'KvsHOU', 'KvsIND', 'KvsJAX', 'KvsKC', 'KvsLAC', 'KvsLAR', 'KvsLV', 'KvsMIA', 'KvsMIN', 'KvsNE', 'KvsNO', 'KvsNYG', 'KvsNYJ', 'KvsPHI', 'KvsPIT', 'KvsSEA', 'KvsSF', 'KvsTB', 'KvsTEN', 'KvsWAS', \n",
        "  'QBvsARI', 'QBvsATL', 'QBvsBAL', 'QBvsBUF', 'QBvsCAR', 'QBvsCHI', 'QBvsCIN', 'QBvsCLE', 'QBvsDAL', 'QBvsDEN', 'QBvsDET', 'QBvsGB', 'QBvsHOU', 'QBvsIND', 'QBvsJAX', 'QBvsKC', 'QBvsLAC', 'QBvsLAR', 'QBvsLV', 'QBvsMIA', 'QBvsMIN', 'QBvsNE', 'QBvsNO', 'QBvsNYG', 'QBvsNYJ', 'QBvsPHI', 'QBvsPIT', 'QBvsSEA', 'QBvsSF', 'QBvsTB', 'QBvsTEN', 'QBvsWAS', \n",
        "  'RBvsARI', 'RBvsATL', 'RBvsBAL', 'RBvsBUF', 'RBvsCAR', 'RBvsCHI', 'RBvsCIN', 'RBvsCLE', 'RBvsDAL', 'RBvsDEN', 'RBvsDET', 'RBvsGB', 'RBvsHOU', 'RBvsIND', 'RBvsJAX', 'RBvsKC', 'RBvsLAC', 'RBvsLAR', 'RBvsLV', 'RBvsMIA', 'RBvsMIN', 'RBvsNE', 'RBvsNO', 'RBvsNYG', 'RBvsNYJ', 'RBvsPHI', 'RBvsPIT', 'RBvsSEA', 'RBvsSF', 'RBvsTB', 'RBvsTEN', 'RBvsWAS', \n",
        "  'TEvsARI', 'TEvsATL', 'TEvsBAL', 'TEvsBUF', 'TEvsCAR', 'TEvsCHI', 'TEvsCIN', 'TEvsCLE', 'TEvsDAL', 'TEvsDEN', 'TEvsDET', 'TEvsGB', 'TEvsHOU', 'TEvsIND', 'TEvsJAX', 'TEvsKC', 'TEvsLAC', 'TEvsLAR', 'TEvsLV', 'TEvsMIA', 'TEvsMIN', 'TEvsNE', 'TEvsNO', 'TEvsNYG', 'TEvsNYJ', 'TEvsPHI', 'TEvsPIT', 'TEvsSEA', 'TEvsSF', 'TEvsTB', 'TEvsTEN', 'TEvsWAS', \n",
        "  'WRvsARI', 'WRvsATL', 'WRvsBAL', 'WRvsBUF', 'WRvsCAR', 'WRvsCHI', 'WRvsCIN', 'WRvsCLE', 'WRvsDAL', 'WRvsDEN', 'WRvsDET', 'WRvsGB', 'WRvsHOU', 'WRvsIND', 'WRvsJAX', 'WRvsKC', 'WRvsLAC', 'WRvsLAR', 'WRvsLV', 'WRvsMIA', 'WRvsMIN', 'WRvsNE', 'WRvsNO', 'WRvsNYG', 'WRvsNYJ', 'WRvsPHI', 'WRvsPIT', 'WRvsSEA', 'WRvsSF', 'WRvsTB', 'WRvsTEN', 'WRvsWAS', \n",
        "  'DSTvsARI', 'DSTvsATL', 'DSTvsBAL', 'DSTvsBUF', 'DSTvsCAR', 'DSTvsCHI', 'DSTvsCIN', 'DSTvsCLE', 'DSTvsDAL', 'DSTvsDEN', 'DSTvsDET', 'DSTvsGB', 'DSTvsHOU', 'DSTvsIND', 'DSTvsJAX', 'DSTvsKC', 'DSTvsLAC', 'DSTvsLAR', 'DSTvsLV', 'DSTvsMIA', 'DSTvsMIN', 'DSTvsNE', 'DSTvsNO', 'DSTvsNYG', 'DSTvsNYJ', 'DSTvsPHI', 'DSTvsPIT', 'DSTvsSEA', 'DSTvsSF', 'DSTvsTB', 'DSTvsTEN', 'DSTvsWAS', \n",
        "  'TimeWeight'\n",
        "  ]\n",
        "\n",
        "relevant_input_columns = [\n",
        "  'ProjPassingYards',\n",
        "  'ProjPassingTouchdowns', 'ProjPassingInterceptions', 'ProjRushingYards', 'ProjRushingTouchdowns',\n",
        "  'ProjReceivingReceptions', 'ProjReceivingYards',\n",
        "  'ProjReceivingTouchdowns', 'ProjFumblesLost',\n",
        "  'ProjFieldGoalsMade', 'ProjFieldGoalsMissed', 'ProjExtraPointsMade',\n",
        "  'ProjExtraPointsMissed',\n",
        "  'ProjTacklesForLoss','ProjSacks','ProjQuarterbackHits','ProjInterceptions','ProjFumblesRecovered','ProjSafeties','ProjDefensiveTouchdowns','ProjPointsAllowed',\n",
        "  'KvsARI', 'KvsATL', 'KvsBAL', 'KvsBUF', 'KvsCAR', 'KvsCHI', 'KvsCIN', 'KvsCLE', 'KvsDAL', 'KvsDEN', 'KvsDET', 'KvsGB', 'KvsHOU', 'KvsIND', 'KvsJAX', 'KvsKC', 'KvsLAC', 'KvsLAR', 'KvsLV', 'KvsMIA', 'KvsMIN', 'KvsNE', 'KvsNO', 'KvsNYG', 'KvsNYJ', 'KvsPHI', 'KvsPIT', 'KvsSEA', 'KvsSF', 'KvsTB', 'KvsTEN', 'KvsWAS', \n",
        "  'QBvsARI', 'QBvsATL', 'QBvsBAL', 'QBvsBUF', 'QBvsCAR', 'QBvsCHI', 'QBvsCIN', 'QBvsCLE', 'QBvsDAL', 'QBvsDEN', 'QBvsDET', 'QBvsGB', 'QBvsHOU', 'QBvsIND', 'QBvsJAX', 'QBvsKC', 'QBvsLAC', 'QBvsLAR', 'QBvsLV', 'QBvsMIA', 'QBvsMIN', 'QBvsNE', 'QBvsNO', 'QBvsNYG', 'QBvsNYJ', 'QBvsPHI', 'QBvsPIT', 'QBvsSEA', 'QBvsSF', 'QBvsTB', 'QBvsTEN', 'QBvsWAS', \n",
        "  'RBvsARI', 'RBvsATL', 'RBvsBAL', 'RBvsBUF', 'RBvsCAR', 'RBvsCHI', 'RBvsCIN', 'RBvsCLE', 'RBvsDAL', 'RBvsDEN', 'RBvsDET', 'RBvsGB', 'RBvsHOU', 'RBvsIND', 'RBvsJAX', 'RBvsKC', 'RBvsLAC', 'RBvsLAR', 'RBvsLV', 'RBvsMIA', 'RBvsMIN', 'RBvsNE', 'RBvsNO', 'RBvsNYG', 'RBvsNYJ', 'RBvsPHI', 'RBvsPIT', 'RBvsSEA', 'RBvsSF', 'RBvsTB', 'RBvsTEN', 'RBvsWAS', \n",
        "  'TEvsARI', 'TEvsATL', 'TEvsBAL', 'TEvsBUF', 'TEvsCAR', 'TEvsCHI', 'TEvsCIN', 'TEvsCLE', 'TEvsDAL', 'TEvsDEN', 'TEvsDET', 'TEvsGB', 'TEvsHOU', 'TEvsIND', 'TEvsJAX', 'TEvsKC', 'TEvsLAC', 'TEvsLAR', 'TEvsLV', 'TEvsMIA', 'TEvsMIN', 'TEvsNE', 'TEvsNO', 'TEvsNYG', 'TEvsNYJ', 'TEvsPHI', 'TEvsPIT', 'TEvsSEA', 'TEvsSF', 'TEvsTB', 'TEvsTEN', 'TEvsWAS', \n",
        "  'WRvsARI', 'WRvsATL', 'WRvsBAL', 'WRvsBUF', 'WRvsCAR', 'WRvsCHI', 'WRvsCIN', 'WRvsCLE', 'WRvsDAL', 'WRvsDEN', 'WRvsDET', 'WRvsGB', 'WRvsHOU', 'WRvsIND', 'WRvsJAX', 'WRvsKC', 'WRvsLAC', 'WRvsLAR', 'WRvsLV', 'WRvsMIA', 'WRvsMIN', 'WRvsNE', 'WRvsNO', 'WRvsNYG', 'WRvsNYJ', 'WRvsPHI', 'WRvsPIT', 'WRvsSEA', 'WRvsSF', 'WRvsTB', 'WRvsTEN', 'WRvsWAS', \n",
        "  'DSTvsARI', 'DSTvsATL', 'DSTvsBAL', 'DSTvsBUF', 'DSTvsCAR', 'DSTvsCHI', 'DSTvsCIN', 'DSTvsCLE', 'DSTvsDAL', 'DSTvsDEN', 'DSTvsDET', 'DSTvsGB', 'DSTvsHOU', 'DSTvsIND', 'DSTvsJAX', 'DSTvsKC', 'DSTvsLAC', 'DSTvsLAR', 'DSTvsLV', 'DSTvsMIA', 'DSTvsMIN', 'DSTvsNE', 'DSTvsNO', 'DSTvsNYG', 'DSTvsNYJ', 'DSTvsPHI', 'DSTvsPIT', 'DSTvsSEA', 'DSTvsSF', 'DSTvsTB', 'DSTvsTEN', 'DSTvsWAS', \n",
        "  ]\n"
      ],
      "metadata": {
        "id": "7nIjHWehh6O6"
      },
      "execution_count": null,
      "outputs": []
    },
    {
      "cell_type": "code",
      "source": [
        "#@title Define projected_df\n",
        "\n",
        "projections_df = pd.read_csv('/content/drive/MyDrive/FantasyFootballCoding/Sources/HistoricalWeeklyProjectionSource.csv').iloc[:, 1:]\n",
        "projections_df = projections_df[projections_df['player'].notna()]\n",
        "\n",
        "\n",
        "projections_df['duplicate'] = projections_df.duplicated(subset=['player','Year','Week'],keep='last')\n",
        "projections_df = projections_df[projections_df.duplicate != True].drop(columns={'duplicate'})\n",
        "\n",
        "df = pd.DataFrame()\n",
        "for p in list(proj_column_dict.keys()):\n",
        "  x = projections_df.loc[projections_df['Position'] == p]\n",
        "  x[proj_column_dict[p]] = x.projstats.str.split(' ',expand=True)\n",
        "  x = x.drop(columns={'projstats'})\n",
        "  df = df.append(x, ignore_index=True)\n",
        "projections_df = df.fillna(0)"
      ],
      "metadata": {
        "id": "oAE6_VzZyUyO"
      },
      "execution_count": null,
      "outputs": []
    },
    {
      "cell_type": "code",
      "source": [
        "#@title Define performance_df\n",
        "\n",
        "performance_df = pd.read_csv('/content/drive/MyDrive/FantasyFootballCoding/Sources/HistoricalWeeklyPerformanceSource.csv').iloc[:, 1:]\n",
        "performance_df = performance_df[performance_df['player'].notna()]\n",
        "\n",
        "performance_df['duplicate'] = performance_df.duplicated(subset=['player','Year','Week'],keep='last')\n",
        "performance_df = performance_df[performance_df.duplicate != True].drop(columns={'duplicate'})\n",
        "\n",
        "df = pd.DataFrame()\n",
        "for p in list(perf_column_dict.keys()):\n",
        "  x = performance_df.loc[performance_df['Position'] == p]\n",
        "  x[perf_column_dict[p]] = x.stats.str.split(' ',expand=True)\n",
        "  x = x.drop(columns={'stats'})\n",
        "  df = df.append(x, ignore_index=True)\n",
        "performance_df = df.fillna(0)"
      ],
      "metadata": {
        "id": "jG5e8DtEyo7c"
      },
      "execution_count": null,
      "outputs": []
    },
    {
      "cell_type": "code",
      "source": [
        "#@title Define source_df\n",
        "source_df = pd.merge(projections_df, performance_df, on=[\"player\", \"Year\", \"Week\",'Position','PlayerTeam','PlayerPosition','OppTeam'],how='left')\n",
        "source_df = source_df.dropna()"
      ],
      "metadata": {
        "id": "nMxFfSVLz_BU"
      },
      "execution_count": null,
      "outputs": []
    },
    {
      "cell_type": "code",
      "source": [
        "#@title Define data_df\n",
        "\n",
        "data_df = source_df[relevant_data_columns].copy()\n",
        "data_df['ProjFieldGoalsMissed'] = data_df['ProjFieldGoalAttempts'].astype(float) - data_df['ProjFieldGoalsMade'].astype(float)\n",
        "data_df['ProjExtraPointsMissed'] = data_df['ProjExtraPointAttempts'].astype(float) - data_df['ProjExtraPointsMade'].astype(float)\n",
        "data_df['PerfFieldGoalsMissed'] = data_df['PerfFieldGoalAttempts'].astype(float) - data_df['PerfFieldGoalsMade'].astype(float)\n",
        "data_df['PerfExtraPointsMissed'] = data_df['PerfExtraPointAttempts'].astype(float) - data_df['PerfExtraPointsMade'].astype(float)\n",
        "data_df.drop(columns={'ProjFieldGoalAttempts','ProjExtraPointAttempts','PerfExtraPointAttempts','PerfFieldGoalAttempts'})\n",
        "\n",
        "s = data_df['PlayerPosition']\n",
        "data_df = data_df.join(pd.get_dummies(s))\n",
        "\n",
        "data_df['PerfLeaguePoints'] = (\n",
        "       ((data_df['PerfPassingYards']).astype(float))*league_scoring['PassingYards'] + ((data_df['PerfPassingTouchdowns']).astype(float))*league_scoring['PassingTouchdowns'] + ((data_df['PerfPassingInterceptions']).astype(float))*league_scoring['PassingInterceptions'] +\n",
        "       ((data_df['PerfRushingYards']).astype(float))*league_scoring['RushingYards'] + ((data_df['PerfRushingTouchdowns']).astype(float))*league_scoring['RushingTouchdowns'] + ((data_df['PerfFumblesLost']).astype(float))*league_scoring['FumblesLost'] + \n",
        "       ((data_df['PerfReceivingReceptions']).astype(float))*league_scoring['ReceivingReceptions'] + ((data_df['PerfReceivingYards']).astype(float))*league_scoring['ReceivingYards'] + ((data_df['PerfReceivingTouchdowns']).astype(float))*league_scoring['ReceivingTouchdowns'] + \n",
        "       ((data_df['PerfFieldGoalsMade']).astype(float))*league_scoring['FieldGoalMade'] + ((data_df['PerfFieldGoalsMissed']).astype(float))*league_scoring['FieldGoalMissed'] + ((data_df['PerfExtraPointsMade']).astype(float))*league_scoring['ExtraPointMade'] + ((data_df['PerfExtraPointsMissed']).astype(float))*league_scoring['ExtraPointMissed'] +\n",
        "       ((data_df['PerfTacklesForLoss']).astype(float))*league_scoring['TacklesForLoss'] + ((data_df['PerfSacks']).astype(float))*league_scoring['DefenseSack'] + ((data_df['PerfQuarterbackHits']).astype(float))*league_scoring['QuarterbackHits'] + ((data_df['PerfInterceptions']).astype(float))*league_scoring['DefenseInterception'] + ((data_df['PerfFumblesRecovered']).astype(float))*league_scoring['DefenseFumbleRecovered'] + ((data_df['PerfSafeties']).astype(float))*league_scoring['DefenseSafety'] + ((data_df['PerfDefensiveTouchdowns']).astype(float))*league_scoring['DefenseTouchdown'] + ((data_df['PerfReturningTouchdowns']).astype(float))*league_scoring['DefenseTouchdown'] + ((((data_df['PerfPointsAllowed']).astype(float))*league_scoring['DefensePointsAllowed']) + data_df['DST']*5)\n",
        "       )\n",
        "\n",
        "data_df[\"PlayerPosition\"].replace({\"FB\": \"RB\"}, inplace=True)\n",
        "\n",
        "data_df['matchup'] = data_df['PlayerPosition'].astype(str) + 'vs' + data_df['OppTeam'].astype(str)\n",
        "s = data_df['matchup']\n",
        "data_df = data_df.join(pd.get_dummies(s))\n",
        "\n",
        "data_df['TimeWeight'] = data_df['Year'] - 2012\n",
        "data_df['Week'] = data_df['Week'].astype(int)\n",
        "data_df['TimeWeight'] = (data_df['Week']) + ((data_df['TimeWeight'] - 1).multiply(18))\n",
        "min_TimeWeight = 0\n",
        "max_TimeWeight = data_df['TimeWeight'].max()\n",
        "TimeWeight_range = max_TimeWeight - min_TimeWeight\n",
        "data_df['TimeWeight'] = data_df['TimeWeight'].apply(lambda x: (x - min_TimeWeight) / TimeWeight_range)\n",
        "data_df['TimeWeight'] = data_df['TimeWeight'].apply(lambda x: (x*4) ** 2)"
      ],
      "metadata": {
        "id": "HWXXNhaA5eI2"
      },
      "execution_count": null,
      "outputs": []
    },
    {
      "cell_type": "code",
      "source": [
        "#@title Define train_ml_df\n",
        "\n",
        "train_ml_df = data_df[relevant_ml_columns].copy()"
      ],
      "metadata": {
        "id": "qWH4zfAECS13"
      },
      "execution_count": null,
      "outputs": []
    },
    {
      "cell_type": "code",
      "source": [
        "#@title Define regr.fit\n",
        "\n",
        "X = train_ml_df.drop(columns={'PerfLeaguePoints','TimeWeight'})\n",
        "y = train_ml_df['PerfLeaguePoints']\n",
        "n = train_ml_df['TimeWeight']\n",
        "\n",
        "regr = linear_model.LinearRegression(fit_intercept=False)\n",
        "regr.fit(X, y, n)"
      ],
      "metadata": {
        "id": "AqYL1qZ9CTjP"
      },
      "execution_count": null,
      "outputs": []
    },
    {
      "cell_type": "code",
      "source": [
        "#@title Define scrape_pos_year_week\n",
        "\n",
        "scrape_df = pd.DataFrame()\n",
        "\n",
        "def scrape_pos_year_week(pos,year,week,t):\n",
        "  url = f\"https://fantasydata.com/nfl/fantasy-football-weekly-projections?position={pos}&season={year}&seasontype=1&scope=2&startweek={week}&endweek={week}\"\n",
        "\n",
        "  global scrape_df\n",
        "  \n",
        "  try:\n",
        "    driver.get(url)\n",
        "  except TimeOutException:\n",
        "    Pass\n",
        "\n",
        "  driver.find_element(By.XPATH, \"//a[@ng-click='SetPageSize(300);']\").click()\n",
        "\n",
        "  time.sleep(t)\n",
        "\n",
        "  players = driver.find_element(By.CSS_SELECTOR, \"body > div.fd-body.ng-scope > div > div.fd-content > div.container.page-container > div > div.tab-section-container.horizontal > div > div > div.tab-content > section > div.ng-scope > div.stats-grid-container > div.k-grid.k-widget.k-display-block.k-grid-lockedcolumns > div.k-grid-content-locked > table > tbody\")\n",
        "  player_list = players.text.split('\\n')\n",
        "  player_list = player_list[::2]\n",
        "  projstats = driver.find_element(By.XPATH, \"//tbody[@role='rowgroup']\")\n",
        "  projstats_list = projstats.text.split('\\n')\n",
        "  scrape_df = pd.DataFrame(\n",
        "    {'player': player_list,\n",
        "     'projstats': projstats_list\n",
        "    })\n",
        "\n",
        "  scrape_df['Position'] = f'{pos}'\n",
        "  scrape_df['Year'] = f'{year}'\n",
        "  scrape_df['Week'] = f'{week}'\n",
        "  return scrape_df"
      ],
      "metadata": {
        "id": "-0xvguUbJ8Jv"
      },
      "execution_count": null,
      "outputs": []
    },
    {
      "cell_type": "code",
      "source": [
        "#@title Login to Website\n",
        "\n",
        "driver.get('https://fantasydata.com/user/login')\n",
        "email = driver.find_element(By.ID,'Email')\n",
        "password = driver.find_element(By.ID,'Password')\n",
        "email.send_keys(inputemail)\n",
        "password.send_keys(inputpassword)\n",
        "driver.find_element(By.XPATH, '//button[@class=\"btn fd-btn fd-btn-blue\"]').click()"
      ],
      "metadata": {
        "id": "Yjsb283ULfto"
      },
      "execution_count": null,
      "outputs": []
    },
    {
      "cell_type": "code",
      "source": [
        "#@title Scrape Website\n",
        "\n",
        "pos_list = list(range(2,8,1))\n",
        "\n",
        "df = pd.DataFrame()\n",
        "for p in pos_list:\n",
        "  t = 1.5\n",
        "  scrape_pos_year_week(p,year,week,t)\n",
        "  while len(scrape_df.index) == 1:\n",
        "    t = t+1\n",
        "    print('retrying '+f'{year}'+','+f'{week}'+','+f'{p}'f' {t}s')\n",
        "    scrape_pos_year_week(p,year,week,t)\n",
        "  scrape_df['player'] = scrape_df['player'].dropna().map(lambda x: ''.join(x.split(' ')[1:3]))\n",
        "  df = df.append(scrape_df, ignore_index=True)\n",
        "  print(f'{year}'+','+f'{week}'+','+f'{p}')\n",
        "\n",
        "upcoming_projections_df = df"
      ],
      "metadata": {
        "id": "_gUj-Yx9MRLR"
      },
      "execution_count": null,
      "outputs": []
    },
    {
      "cell_type": "code",
      "source": [
        "#@title Refine upcoming_projections_df\n",
        "\n",
        "df = pd.DataFrame()\n",
        "for p in list(proj_column_dict.keys()):\n",
        "  x = upcoming_projections_df.loc[upcoming_projections_df['Position'] == f'{p}']\n",
        "  x[proj_column_dict[p]] = x.projstats.str.split(' ',expand=True)\n",
        "  x = x.drop(columns={'projstats'})\n",
        "  df = df.append(x, ignore_index=True)\n",
        "upcoming_projections_df = df.fillna(0)\n",
        "\n",
        "upcoming_projections_df['ProjFieldGoalsMissed'] = upcoming_projections_df['ProjFieldGoalAttempts'].astype(float) - upcoming_projections_df['ProjFieldGoalsMade'].astype(float)\n",
        "upcoming_projections_df['ProjExtraPointsMissed'] = upcoming_projections_df['ProjExtraPointAttempts'].astype(float) - upcoming_projections_df['ProjExtraPointsMade'].astype(float)\n",
        "upcoming_projections_df = upcoming_projections_df.drop(columns={'ProjFieldGoalAttempts','ProjExtraPointAttempts'})\n",
        "\n",
        "upcoming_projections_df[\"PlayerPosition\"].replace({\"FB\": \"RB\"}, inplace=True)\n",
        "\n",
        "upcoming_projections_df['matchup'] = upcoming_projections_df['PlayerPosition'] + 'vs' + upcoming_projections_df['OppTeam']\n",
        "s = upcoming_projections_df['matchup']\n",
        "upcoming_projections_df = upcoming_projections_df.join(pd.get_dummies(s))"
      ],
      "metadata": {
        "id": "fav32wcvTBwI"
      },
      "execution_count": null,
      "outputs": []
    },
    {
      "cell_type": "code",
      "source": [
        "#@title Define DFs for ML\n",
        "\n",
        "upcoming_ids = upcoming_projections_df[['player','Year','Week']]\n",
        "upcoming_data = upcoming_projections_df[relevant_input_columns]"
      ],
      "metadata": {
        "id": "L_HhscQgNXaV"
      },
      "execution_count": null,
      "outputs": []
    },
    {
      "cell_type": "code",
      "source": [
        "#@title Input Data for ML\n",
        "\n",
        "upcoming_ids['ModelLeaguePoints'] = regr.predict(upcoming_data)"
      ],
      "metadata": {
        "id": "UYIpXR85NguN"
      },
      "execution_count": null,
      "outputs": []
    },
    {
      "cell_type": "code",
      "source": [
        "#@title Model Projected League Points\n",
        "\n",
        "# upcoming_ids.sort_values(by='ModelLeaguePoints', ascending=False)"
      ],
      "metadata": {
        "id": "fSIy1sLaZQzi"
      },
      "execution_count": null,
      "outputs": []
    },
    {
      "cell_type": "code",
      "source": [
        "#@title League Definitions\n",
        "if league == 'IYNFYL':\n",
        "  league_id =  #your league_id\n",
        "  swid = '' #your swid\n",
        "  espn_s2 = '' #your espn_s2\n",
        "  roster_sizes = {'QB': 1,'RB': 2,'WR': 3,'TE': 1,'FLEX': 2,'DST': 1,'K': 0, 'BENCH': 6}\n",
        "  team = 'roster0'\n",
        "\n",
        "if league == 'STS':\n",
        "  league_id =  #your league_id\n",
        "  swid = '' #your swid\n",
        "  espn_s2 = '' #your espn_s2\n",
        "  roster_sizes = {'QB': 2,'RB': 3,'WR': 3,'TE': 1,'FLEX': 1,'DST': 1,'K': 1, 'BENCH': 6}\n",
        "  team = 'roster3'\n",
        "\n",
        "league = League(league_id, year, espn_s2, swid)"
      ],
      "metadata": {
        "id": "MTlYmEzieGGR"
      },
      "execution_count": null,
      "outputs": []
    },
    {
      "cell_type": "code",
      "source": [
        "#@title Create Rosters Dataframe\n",
        "rosters = {}\n",
        "\n",
        "for x in range(len(league.teams)):\n",
        "    rosters['roster{0}'.format(x)] = (league.teams[x].__dict__)['roster']\n",
        "\n",
        "roster_df = pd.DataFrame.from_dict(rosters, orient='index')\n",
        "roster_df = roster_df.transpose()\n",
        "\n",
        "roster_df = roster_df.astype(str)\n",
        "roster_df = roster_df.replace({'Player\\(':''}, regex=True)\n",
        "roster_df = roster_df.replace({\"\\)\":''}, regex=True)\n",
        "\n",
        "roster_df = roster_df.stack().reset_index()\n",
        "roster_df['Player'] = roster_df[0]\n",
        "roster_df['FantasyTeam'] = roster_df['level_1']\n",
        "roster_df = roster_df[roster_df.Player != 'None']\n",
        "roster_df = roster_df[['Player', 'FantasyTeam']]\n",
        "roster_df['Player'] = roster_df['Player'].map(lambda x: ''.join(x.split(' ')[:2]))"
      ],
      "metadata": {
        "id": "5tHWXS83Ids1"
      },
      "execution_count": null,
      "outputs": []
    },
    {
      "cell_type": "code",
      "source": [
        "#@title Define upcoming_ids\n",
        "upcoming_ids['Player'] = upcoming_ids['player']\n",
        "upcoming_ids = upcoming_ids.drop(columns={'player'})\n",
        "df = upcoming_ids.join(roster_df.set_index('Player'),on='Player',how='left',rsuffix='_y')\n",
        "df = df[['Player', 'ModelLeaguePoints', 'FantasyTeam']]\n",
        "pos_df = source_df[['player','PlayerPosition']]\n",
        "pos_df['duplicate'] = pos_df.duplicated(subset=['player','PlayerPosition'],keep='last')\n",
        "pos_df = pos_df[pos_df.duplicate != True].drop(columns={'duplicate'})\n",
        "pos_df['Player'] = pos_df['player']\n",
        "pos_df = pos_df.drop(columns={'player'})\n",
        "df = pd.merge(pos_df, df, on=['Player']).fillna('None')"
      ],
      "metadata": {
        "id": "9q_Rtt6hKLJk"
      },
      "execution_count": null,
      "outputs": []
    },
    {
      "cell_type": "code",
      "source": [
        "#@title\n",
        "league.teams"
      ],
      "metadata": {
        "id": "egy5AE3J0bnp"
      },
      "execution_count": null,
      "outputs": []
    },
    {
      "cell_type": "code",
      "source": [
        "#@title\n",
        "team = 'roster0'"
      ],
      "metadata": {
        "id": "kh0oAYz2Bk4z"
      },
      "execution_count": null,
      "outputs": []
    },
    {
      "cell_type": "code",
      "source": [
        "#@title Define Positional Dataframes\n",
        "qb_df = df.loc[df['FantasyTeam'].eq('None') | df['FantasyTeam'].eq(team)].loc[df['PlayerPosition'].eq('QB')].sort_values(by='ModelLeaguePoints', ascending=False).head(roster_sizes['QB'])\n",
        "rb_df = df.loc[df['FantasyTeam'].eq('None') | df['FantasyTeam'].eq(team)].loc[df['PlayerPosition'].eq('RB')].sort_values(by='ModelLeaguePoints', ascending=False).head(roster_sizes['RB'])\n",
        "wr_df = df.loc[df['FantasyTeam'].eq('None') | df['FantasyTeam'].eq(team)].loc[df['PlayerPosition'].eq('WR')].sort_values(by='ModelLeaguePoints', ascending=False).head(roster_sizes['WR'])\n",
        "te_df = df.loc[df['FantasyTeam'].eq('None') | df['FantasyTeam'].eq(team)].loc[df['PlayerPosition'].eq('TE')].sort_values(by='ModelLeaguePoints', ascending=False).head(roster_sizes['TE'])\n",
        "flex_df = df.loc[df['FantasyTeam'].eq('None') | df['FantasyTeam'].eq(team)].loc[df['PlayerPosition'].eq('RB') | df['PlayerPosition'].eq('WR') | df['PlayerPosition'].eq('TE')].sort_values(by='ModelLeaguePoints', ascending=False).head(roster_sizes['WR'] + roster_sizes['RB'] + roster_sizes['TE'] + 5)\n",
        "k_df = df.loc[df['FantasyTeam'].eq('None') | df['FantasyTeam'].eq(team)].loc[df['PlayerPosition'].eq('K')].sort_values(by='ModelLeaguePoints', ascending=False).head(roster_sizes['K'])\n",
        "dst_df = df.loc[df['PlayerPosition'].eq('DST')].sort_values(by='ModelLeaguePoints', ascending=False)"
      ],
      "metadata": {
        "id": "N7i9yUnLy_JI"
      },
      "execution_count": null,
      "outputs": []
    },
    {
      "cell_type": "code",
      "source": [
        "#@title Display All Positions\n",
        "display_side_by_side(qb_df,rb_df,wr_df,te_df,flex_df,k_df,dst_df,titles=['QBs','RBs','WRs','TEs','Flex','K','DST'])"
      ],
      "metadata": {
        "id": "JjCFOJ1PODjK"
      },
      "execution_count": null,
      "outputs": []
    },
    {
      "cell_type": "code",
      "source": [
        "#@title ML Coefficients\n",
        "\n",
        "pd.DataFrame({'Column':list(upcoming_data.columns),'coef':list(regr.coef_)}).sort_values(by='coef')"
      ],
      "metadata": {
        "id": "AIyXmWUCZ3Cf"
      },
      "execution_count": null,
      "outputs": []
    },
    {
      "cell_type": "code",
      "source": [
        "#@title\n"
      ],
      "metadata": {
        "id": "_BBiDVjbDty7"
      },
      "execution_count": null,
      "outputs": []
    }
  ]
}